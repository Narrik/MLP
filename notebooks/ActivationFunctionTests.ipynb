{
 "cells": [
  {
   "cell_type": "code",
   "execution_count": 5,
   "metadata": {},
   "outputs": [
    {
     "name": "stdout",
     "output_type": "stream",
     "text": [
      "running install\n",
      "running bdist_egg\n",
      "running egg_info\n",
      "writing mlp.egg-info/PKG-INFO\n",
      "writing dependency_links to mlp.egg-info/dependency_links.txt\n",
      "writing top-level names to mlp.egg-info/top_level.txt\n",
      "reading manifest file 'mlp.egg-info/SOURCES.txt'\n",
      "writing manifest file 'mlp.egg-info/SOURCES.txt'\n",
      "installing library code to build/bdist.macosx-10.9-x86_64/egg\n",
      "running install_lib\n",
      "running build_py\n",
      "copying mlp/layers.py -> build/lib/mlp\n",
      "creating build/bdist.macosx-10.9-x86_64/egg\n",
      "creating build/bdist.macosx-10.9-x86_64/egg/mlp\n",
      "copying build/lib/mlp/penalties.py -> build/bdist.macosx-10.9-x86_64/egg/mlp\n",
      "copying build/lib/mlp/initialisers.py -> build/bdist.macosx-10.9-x86_64/egg/mlp\n",
      "copying build/lib/mlp/optimisers.py -> build/bdist.macosx-10.9-x86_64/egg/mlp\n",
      "copying build/lib/mlp/test_methods.py -> build/bdist.macosx-10.9-x86_64/egg/mlp\n",
      "copying build/lib/mlp/models.py -> build/bdist.macosx-10.9-x86_64/egg/mlp\n",
      "copying build/lib/mlp/__init__.py -> build/bdist.macosx-10.9-x86_64/egg/mlp\n",
      "copying build/lib/mlp/errors.py -> build/bdist.macosx-10.9-x86_64/egg/mlp\n",
      "copying build/lib/mlp/data_providers.py -> build/bdist.macosx-10.9-x86_64/egg/mlp\n",
      "copying build/lib/mlp/layers.py -> build/bdist.macosx-10.9-x86_64/egg/mlp\n",
      "copying build/lib/mlp/learning_rules.py -> build/bdist.macosx-10.9-x86_64/egg/mlp\n",
      "copying build/lib/mlp/schedulers.py -> build/bdist.macosx-10.9-x86_64/egg/mlp\n",
      "byte-compiling build/bdist.macosx-10.9-x86_64/egg/mlp/penalties.py to penalties.cpython-37.pyc\n",
      "byte-compiling build/bdist.macosx-10.9-x86_64/egg/mlp/initialisers.py to initialisers.cpython-37.pyc\n",
      "byte-compiling build/bdist.macosx-10.9-x86_64/egg/mlp/optimisers.py to optimisers.cpython-37.pyc\n",
      "byte-compiling build/bdist.macosx-10.9-x86_64/egg/mlp/test_methods.py to test_methods.cpython-37.pyc\n",
      "byte-compiling build/bdist.macosx-10.9-x86_64/egg/mlp/models.py to models.cpython-37.pyc\n",
      "byte-compiling build/bdist.macosx-10.9-x86_64/egg/mlp/__init__.py to __init__.cpython-37.pyc\n",
      "byte-compiling build/bdist.macosx-10.9-x86_64/egg/mlp/errors.py to errors.cpython-37.pyc\n",
      "byte-compiling build/bdist.macosx-10.9-x86_64/egg/mlp/data_providers.py to data_providers.cpython-37.pyc\n",
      "byte-compiling build/bdist.macosx-10.9-x86_64/egg/mlp/layers.py to layers.cpython-37.pyc\n",
      "byte-compiling build/bdist.macosx-10.9-x86_64/egg/mlp/learning_rules.py to learning_rules.cpython-37.pyc\n",
      "byte-compiling build/bdist.macosx-10.9-x86_64/egg/mlp/schedulers.py to schedulers.cpython-37.pyc\n",
      "creating build/bdist.macosx-10.9-x86_64/egg/EGG-INFO\n",
      "copying mlp.egg-info/PKG-INFO -> build/bdist.macosx-10.9-x86_64/egg/EGG-INFO\n",
      "copying mlp.egg-info/SOURCES.txt -> build/bdist.macosx-10.9-x86_64/egg/EGG-INFO\n",
      "copying mlp.egg-info/dependency_links.txt -> build/bdist.macosx-10.9-x86_64/egg/EGG-INFO\n",
      "copying mlp.egg-info/top_level.txt -> build/bdist.macosx-10.9-x86_64/egg/EGG-INFO\n",
      "zip_safe flag not set; analyzing archive contents...\n",
      "creating 'dist/mlp-0.0.0-py3.7.egg' and adding 'build/bdist.macosx-10.9-x86_64/egg' to it\n",
      "removing 'build/bdist.macosx-10.9-x86_64/egg' (and everything under it)\n",
      "Processing mlp-0.0.0-py3.7.egg\n",
      "Removing /Users/narrik/miniconda3/envs/mlp/lib/python3.7/site-packages/mlp-0.0.0-py3.7.egg\n",
      "Copying mlp-0.0.0-py3.7.egg to /Users/narrik/miniconda3/envs/mlp/lib/python3.7/site-packages\n",
      "mlp 0.0.0 is already the active version in easy-install.pth\n",
      "\n",
      "Installed /Users/narrik/miniconda3/envs/mlp/lib/python3.7/site-packages/mlp-0.0.0-py3.7.egg\n",
      "Processing dependencies for mlp==0.0.0\n",
      "Finished processing dependencies for mlp==0.0.0\n"
     ]
    }
   ],
   "source": [
    "! cd /Users/narrik/mlpractical/; python setup.py install"
   ]
  },
  {
   "cell_type": "code",
   "execution_count": 1,
   "metadata": {},
   "outputs": [
    {
     "name": "stdout",
     "output_type": "stream",
     "text": [
      "Leaky ReLU Fprop Functionality Test Passed\n",
      "Leaky ReLU Bprop Test Passed\n"
     ]
    }
   ],
   "source": [
    "from mlp.test_methods import test_leaky_relu\n",
    "import numpy as np\n",
    "\n",
    "fprop_test, fprop_output, fprop_correct, \\\n",
    "bprop_test, bprop_output, bprop_correct = test_leaky_relu()\n",
    "\n",
    "assert fprop_test == 1.0, (\n",
    "'The leaky relu fprop functionality test failed'\n",
    "'Correct output is \\n\\n{0}\\n\\n but returned output is \\n\\n{1}\\n\\n difference is \\n\\n{2}'\n",
    ".format(fprop_correct, fprop_output, fprop_output-fprop_correct)\n",
    ")\n",
    "\n",
    "print(\"Leaky ReLU Fprop Functionality Test Passed\")\n",
    "\n",
    "assert bprop_test == 1.0, (\n",
    "'The leaky relu bprop functionality test failed'\n",
    "'Correct output is \\n\\n{0}\\n\\n but returned output is \\n\\n{1}\\n\\n difference is \\n\\n{2}'\n",
    ".format(bprop_correct, bprop_output, bprop_output-bprop_correct)\n",
    ")\n",
    "\n",
    "print(\"Leaky ReLU Bprop Test Passed\")"
   ]
  },
  {
   "cell_type": "code",
   "execution_count": 2,
   "metadata": {},
   "outputs": [
    {
     "name": "stdout",
     "output_type": "stream",
     "text": [
      "Random ReLU Fprop when given an argument leakiness Functionality Test Passed\n",
      "Random ReLU Bprop when using an argument leakiness Functionality Test Passed\n",
      "Random ReLU Fprop when using rng leakiness Functionality Test Passed\n",
      "Random ReLU Bprop when using rng leakiness Functionality Passed\n"
     ]
    }
   ],
   "source": [
    "from mlp.test_methods import test_random_relu\n",
    "\n",
    "fprop_test_arg_leakiness, fprop_output_arg_leakiness, fprop_correct_arg_leakiness, \\\n",
    "bprop_test_arg_leakiness, bprop_output_arg_leakiness, bprop_correct_arg_leakiness, \\\n",
    "fprop_test_rng_leakiness, fprop_output_rng_leakiness, fprop_correct_rng_leakiness, \\\n",
    "bprop_test_rng_leakiness, bprop_output_rng_leakiness, bprop_correct_rng_leakiness = test_random_relu()\n",
    "\n",
    "assert fprop_test_arg_leakiness == 1.0, (\n",
    "'The random relu fprop functionality when given an argument leakiness test failed'\n",
    "'Correct output is \\n\\n{0}\\n\\n but returned output is \\n\\n{1}\\n\\n difference is \\n\\n{2}'\n",
    ".format(fprop_correct_arg_leakiness, fprop_output_arg_leakiness, fprop_output_arg_leakiness-fprop_correct_arg_leakiness)\n",
    ")\n",
    "\n",
    "print(\"Random ReLU Fprop when given an argument leakiness Functionality Test Passed\")\n",
    "\n",
    "assert bprop_test_arg_leakiness == 1.0, (\n",
    "'The random relu bprop functionality when given an argument leakiness test failed'\n",
    "'Correct output is \\n\\n{0}\\n\\n but returned output is \\n\\n{1}\\n\\n difference is \\n\\n{2}'\n",
    ".format(bprop_correct_arg_leakiness, bprop_output_arg_leakiness, bprop_output_arg_leakiness-bprop_correct_arg_leakiness)\n",
    ")\n",
    "\n",
    "print(\"Random ReLU Bprop when using an argument leakiness Functionality Test Passed\")\n",
    "\n",
    "assert fprop_test_rng_leakiness == 1.0, (\n",
    "'The random relu fprop functionality when given an argument leakiness test failed'\n",
    "'Correct output is \\n\\n{0}\\n\\n but returned output is \\n\\n{1}\\n\\n difference is \\n\\n{2}'\n",
    ".format(fprop_correct_rng_leakiness, fprop_output_rng_leakiness, fprop_output_rng_leakiness-fprop_correct_rng_leakiness)\n",
    ")\n",
    "\n",
    "print(\"Random ReLU Fprop when using rng leakiness Functionality Test Passed\")\n",
    "\n",
    "assert bprop_test_rng_leakiness == 1.0, (\n",
    "'The random relu bprop functionality when given rng leakiness test failed'\n",
    "'Correct output is \\n\\n{0}\\n\\n but returned output is \\n\\n{1}\\n\\n difference is \\n\\n{2}'\n",
    ".format(bprop_correct_rng_leakiness, bprop_output_rng_leakiness, bprop_output_rng_leakiness-bprop_correct_rng_leakiness)\n",
    ")\n",
    "\n",
    "print(\"Random ReLU Bprop when using rng leakiness Functionality Passed\")\n"
   ]
  },
  {
   "cell_type": "code",
   "execution_count": 3,
   "metadata": {},
   "outputs": [
    {
     "name": "stdout",
     "output_type": "stream",
     "text": [
      "Parametric ReLU Fprop Functionality Test Passed\n",
      "Parametric ReLU Grads wrt Params Test Passed\n",
      "Parametric ReLU Bprop Test Passed\n"
     ]
    }
   ],
   "source": [
    "from mlp.test_methods import test_parametric_relu\n",
    "\n",
    "fprop_test, fprop_output, fprop_correct, \\\n",
    "bprop_test, bprop_output, bprop_correct, \\\n",
    "grads_wrt_param_test, grads_wrt_param_output, grads_wrt_param_correct = test_parametric_relu()\n",
    "\n",
    "assert fprop_test == 1.0, (\n",
    "'The parametric relu fprop functionality test failed'\n",
    "'Correct output is \\n\\n{0}\\n\\n but returned output is \\n\\n{1}\\n\\n difference is \\n\\n{2}'\n",
    ".format(fprop_correct, fprop_output, fprop_output-fprop_correct)\n",
    ")\n",
    "\n",
    "print(\"Parametric ReLU Fprop Functionality Test Passed\")\n",
    "\n",
    "assert grads_wrt_param_test == 1.0, (\n",
    "'The parametric relu grad_wrt_param functionality test failed'\n",
    "'Correct output is \\n\\n{0}\\n\\n but returned output is \\n\\n{1}\\n\\n difference is \\n\\n{2}'\n",
    ".format(grads_wrt_param_correct, grads_wrt_param_output, grads_wrt_param_output-grads_wrt_param_correct)\n",
    ")\n",
    "\n",
    "print(\"Parametric ReLU Grads wrt Params Test Passed\")\n",
    "\n",
    "assert bprop_test == 1.0, (\n",
    "'The parametric relu bprop functionality test failed'\n",
    "'Correct output is \\n\\n{0}\\n\\n but returned output is \\n\\n{1}\\n\\n difference is \\n\\n{2}'\n",
    ".format(bprop_correct, bprop_output, bprop_output-bprop_correct)\n",
    ")\n",
    "\n",
    "print(\"Parametric ReLU Bprop Test Passed\")\n",
    "\n"
   ]
  },
  {
   "cell_type": "code",
   "execution_count": 4,
   "metadata": {},
   "outputs": [
    {
     "name": "stdout",
     "output_type": "stream",
     "text": [
      "ELU Fprop Functionality Test Passed\n",
      "ELU Bprop Test Passed\n"
     ]
    }
   ],
   "source": [
    "from mlp.test_methods import test_exponential_linear_unit\n",
    "\n",
    "\n",
    "fprop_test, fprop_output, fprop_correct, \\\n",
    "bprop_test, bprop_output, bprop_correct = test_exponential_linear_unit()\n",
    "\n",
    "\n",
    "assert fprop_test == 1.0, (\n",
    "'The random relu fprop functionality test failed'\n",
    "'Correct output is \\n\\n{0}\\n\\n but returned output is \\n\\n{1}\\n\\n difference is \\n\\n{2}'\n",
    ".format(fprop_correct, fprop_output, fprop_output-fprop_correct)\n",
    ")\n",
    "\n",
    "print(\"ELU Fprop Functionality Test Passed\")\n",
    "\n",
    "assert bprop_test == 1.0, (\n",
    "'The random relu bprop functionality test failed'\n",
    "'Correct output is \\n\\n{0}\\n\\n but returned output is \\n\\n{1}\\n\\n difference is \\n\\n{2}'\n",
    ".format(bprop_correct, bprop_output, bprop_output-bprop_correct, bprop_output/bprop_correct)\n",
    ")\n",
    "\n",
    "\n",
    "\n",
    "print(\"ELU Bprop Test Passed\")"
   ]
  },
  {
   "cell_type": "code",
   "execution_count": 3,
   "metadata": {},
   "outputs": [
    {
     "name": "stdout",
     "output_type": "stream",
     "text": [
      "[[ 0  1  1 ...  1 -1 -2]\n",
      " [-2 -2  1 ... -2  1 -1]\n",
      " [ 1  0  0 ...  0  0  1]\n",
      " ...\n",
      " [ 0 -2  0 ... -1  0 -1]\n",
      " [-2  1 -1 ...  0  1 -1]\n",
      " [-2 -1  1 ...  0 -2  0]]\n"
     ]
    }
   ],
   "source": [
    "a = np.random.randint(-2.0, 2.0, size=(10000, 10000))\n",
    "print(a)"
   ]
  },
  {
   "cell_type": "code",
   "execution_count": 14,
   "metadata": {},
   "outputs": [
    {
     "name": "stdout",
     "output_type": "stream",
     "text": [
      "1.09 s ± 11.1 ms per loop (mean ± std. dev. of 3 runs, 10 loops each)\n"
     ]
    }
   ],
   "source": [
    "%%timeit -n 10 -r 3\n",
    "a[a <= 0] *=2"
   ]
  },
  {
   "cell_type": "code",
   "execution_count": 15,
   "metadata": {},
   "outputs": [
    {
     "name": "stdout",
     "output_type": "stream",
     "text": [
      "973 ms ± 5.59 ms per loop (mean ± std. dev. of 3 runs, 10 loops each)\n"
     ]
    }
   ],
   "source": [
    "%%timeit -n 10 -r 3\n",
    "np.where(a > 0, a, 2*a)"
   ]
  },
  {
   "cell_type": "code",
   "execution_count": 16,
   "metadata": {},
   "outputs": [
    {
     "name": "stdout",
     "output_type": "stream",
     "text": [
      "713 ms ± 13 ms per loop (mean ± std. dev. of 3 runs, 10 loops each)\n"
     ]
    }
   ],
   "source": [
    "%%timeit -n 10 -r 3\n",
    "da = np.ones_like(a)\n",
    "da[a <= 0] = 0.2"
   ]
  },
  {
   "cell_type": "code",
   "execution_count": 17,
   "metadata": {},
   "outputs": [
    {
     "name": "stdout",
     "output_type": "stream",
     "text": [
      "595 ms ± 3.86 ms per loop (mean ± std. dev. of 3 runs, 10 loops each)\n"
     ]
    }
   ],
   "source": [
    "%%timeit -n 10 -r 3\n",
    "np.where(a > 0, 1, 0.2)"
   ]
  }
 ],
 "metadata": {
  "kernelspec": {
   "display_name": "Python 3",
   "language": "python",
   "name": "python3"
  },
  "language_info": {
   "codemirror_mode": {
    "name": "ipython",
    "version": 3
   },
   "file_extension": ".py",
   "mimetype": "text/x-python",
   "name": "python",
   "nbconvert_exporter": "python",
   "pygments_lexer": "ipython3",
   "version": "3.7.4"
  }
 },
 "nbformat": 4,
 "nbformat_minor": 1
}
